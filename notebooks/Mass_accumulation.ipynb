{
 "cells": [
  {
   "cell_type": "code",
   "execution_count": 1,
   "id": "d72bf00a",
   "metadata": {},
   "outputs": [],
   "source": [
    "import numpy as np\n",
    "from astropy import units as u"
   ]
  },
  {
   "cell_type": "raw",
   "id": "5cc34f51",
   "metadata": {},
   "source": [
    "def mass_accumulation(Mdotaccum, Delta_M, L, M_WD, R_WD, dt):\n",
    "    \n",
    "    Delta_M += (Mdotaccum * dt).to(u.Msun)\n",
    "    Delta_M -= (radStellarWind(L, Mass_WD, Radius_WD) * dt).to(u.Msun)\n",
    "    \n",
    "    Delta_M[Delta_M < 0] = 0\n",
    "    \n",
    "    return Delta_M"
   ]
  },
  {
   "cell_type": "code",
   "execution_count": 2,
   "id": "9246d649",
   "metadata": {},
   "outputs": [],
   "source": [
    "def L_tot(L_WD, L_on, t, t_on):\n",
    "    \n",
    "    L_tot = L_WD + L_cool(L_on, t, t_on)\n",
    "    \n",
    "    return L_tot"
   ]
  },
  {
   "cell_type": "code",
   "execution_count": 3,
   "id": "fd1f046c",
   "metadata": {},
   "outputs": [],
   "source": [
    "def L_cool(L_on, t, t_on):\n",
    "    \n",
    "    return (L_on * (t - t_on).to(u.yr).value**(-1.14)).to(u.Lsun)"
   ]
  },
  {
   "cell_type": "code",
   "execution_count": 4,
   "id": "9ddc6d1a",
   "metadata": {},
   "outputs": [],
   "source": [
    "def find_t_GiantStage(Data, mask):\n",
    "    \n",
    "    SWs = Data['BSE_Switch_Log']  # Access the switch log data\n",
    "        \n",
    "    # Very sketchy but I make the last one False because I have no way to calculate its lifetime\n",
    "    mask[-1] = False\n",
    "    \n",
    "    mask_plus_one = [False] * len(mask)\n",
    "    for i in range(len(mask)):\n",
    "        if mask[i]:\n",
    "            \n",
    "            mask_plus_one[i + 1] = True\n",
    "    \n",
    "    t_GiantStage  = np.array(SWs['Time'][()][mask_plus_one] - SWs['Time'][()][mask]) * u.Myr\n",
    "        \n",
    "    # A better way to do the next thing is (probably) to control that the Seed of the next switch-state is the same\n",
    "    t_GiantStage[t_GiantStage < 0] = 0\n",
    "    \n",
    "    return t_GiantStage"
   ]
  }
 ],
 "metadata": {
  "kernelspec": {
   "display_name": "Python 3 (ipykernel)",
   "language": "python",
   "name": "python3"
  },
  "language_info": {
   "codemirror_mode": {
    "name": "ipython",
    "version": 3
   },
   "file_extension": ".py",
   "mimetype": "text/x-python",
   "name": "python",
   "nbconvert_exporter": "python",
   "pygments_lexer": "ipython3",
   "version": "3.8.18"
  }
 },
 "nbformat": 4,
 "nbformat_minor": 5
}
