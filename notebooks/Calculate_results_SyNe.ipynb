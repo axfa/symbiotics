{
 "cells": [
  {
   "cell_type": "markdown",
   "id": "96e0a2bd",
   "metadata": {},
   "source": [
    "# Packages"
   ]
  },
  {
   "cell_type": "code",
   "execution_count": 1,
   "id": "d564805c",
   "metadata": {},
   "outputs": [],
   "source": [
    "import numpy as np\n",
    "import h5py as h5\n",
    "import astropy.units as u\n",
    "import astropy.constants as c\n",
    "\n",
    "\n",
    "from IPython.display import clear_output\n",
    "import time\n",
    "\n",
    "from ipynb.fs.full.System_types import is_G_WD_fun, is_WD_G_fun\n",
    "from ipynb.fs.full.Unstable_H_burning import hasHotComp_mask_WD_G_unstable, hasHotComp_mask_G_WD_unstable"
   ]
  },
  {
   "cell_type": "markdown",
   "id": "92e067a5",
   "metadata": {},
   "source": [
    "# Importing data"
   ]
  },
  {
   "cell_type": "code",
   "execution_count": 2,
   "id": "e784d545",
   "metadata": {},
   "outputs": [],
   "source": [
    "path = '/STER/axelf/'  # Base directory for storing all files\n",
    "\n",
    "# Define paths to different categories of data\n",
    "path_data = path + 'simulations/'\n",
    "path_energy = path_data + 'classic/'\n",
    "path_twostage = path_data + 'twostage/'\n",
    "path_unstable = path_data + 'unstable/'\n",
    "path_stable = path_data + 'stable/'\n",
    "\n",
    "# Define the path for observed data\n",
    "path_obs = path + 'observations/'"
   ]
  },
  {
   "cell_type": "code",
   "execution_count": 3,
   "id": "1c9b457f",
   "metadata": {},
   "outputs": [],
   "source": [
    "# Load observed periods data\n",
    "periods_obs = np.loadtxt(path_obs + '/periods.txt')"
   ]
  },
  {
   "cell_type": "code",
   "execution_count": 4,
   "id": "61b34b68",
   "metadata": {},
   "outputs": [],
   "source": [
    "dataStables = []  # List to store data files for stable simulations\n",
    "paramsStable = []  # List to store parameter sets (beta, gamma) for stable simulations\n",
    "\n",
    "# Define gamma values and beta values range\n",
    "gamma_values = [0.0, 0.5, 1.0]  # Specific gamma values to iterate over\n",
    "beta_values = np.linspace(0.0, 1, 6)  # Beta values ranging from 0 to 1 in 6 steps\n",
    "\n",
    "# Loop over different values of gamma and beta to load the corresponding simulation data\n",
    "for g in gamma_values:  # Iterate over specified gamma values\n",
    "    for b in beta_values:  # Iterate over beta values\n",
    "                \n",
    "        # Append the (beta, gamma) parameter pair to the paramsStable list\n",
    "        paramsStable.append([b, g])\n",
    "        \n",
    "        # Construct the file path using formatted strings for clarity\n",
    "        file_path = path_stable + \"gamma_\" + str(g) + \"/beta_\" + str(np.around(b,1)) + \"/output_1/COMPAS_Output.h5\"\n",
    "        \n",
    "        # Load the simulation data file (.h5 format) for the current beta and gamma\n",
    "        dataStables.append(h5.File(file_path, 'r'))  # 'r' mode for read access\n"
   ]
  },
  {
   "cell_type": "code",
   "execution_count": 5,
   "id": "062fe8b9",
   "metadata": {},
   "outputs": [],
   "source": [
    "# Initialize a list to store energy data files\n",
    "dataEnergys = []  # List to store data files for energy simulations\n",
    "\n",
    "# Define the range of energy parameter values\n",
    "energy_values = [-1, -0.5, 0, 0.5, 1]  # Specific energy parameter values\n",
    "\n",
    "# Loop over specified energy parameter values to load corresponding simulation data\n",
    "for energy in energy_values:\n",
    "    # Construct the file path using formatted strings for clarity\n",
    "    file_path = path_energy + \"output_\" + str(energy) +\"_1/COMPAS_Output.h5\"\n",
    "    \n",
    "    # Load the simulation data file (.h5 format) for the current energy value\n",
    "    dataEnergys.append(h5.File(file_path, 'r'))  # 'r' mode for read access"
   ]
  },
  {
   "cell_type": "code",
   "execution_count": 6,
   "id": "ac7ee7f6",
   "metadata": {},
   "outputs": [],
   "source": [
    "# Initialize a list to store energy data files\n",
    "dataUnstables = []  # List to store data files for energy simulations\n",
    "\n",
    "# Loop over specified energy parameter values to load corresponding simulation data\n",
    "for energy in energy_values:\n",
    "    # Construct the file path using formatted strings for clarity\n",
    "    file_path = path_unstable + \"output_\" + str(energy) +\"_1/COMPAS_Output.h5\"\n",
    "    \n",
    "    # Load the simulation data file (.h5 format) for the current energy value\n",
    "    dataUnstables.append(h5.File(file_path, 'r'))  # 'r' mode for read access"
   ]
  },
  {
   "cell_type": "code",
   "execution_count": 7,
   "id": "a3d8e524",
   "metadata": {},
   "outputs": [],
   "source": [
    "# Load two-stage simulation data\n",
    "data2Stage = h5.File(path_twostage + \"output_1/COMPAS_Output.h5\", 'r')  # Load two-stage data file"
   ]
  },
  {
   "cell_type": "markdown",
   "id": "8f00b6ae",
   "metadata": {},
   "source": [
    "# Period SyNe"
   ]
  },
  {
   "cell_type": "code",
   "execution_count": 8,
   "id": "7a7dbfc4",
   "metadata": {},
   "outputs": [],
   "source": [
    "def timeWeight(Data):\n",
    "\n",
    "    SWs = Data['BSE_Switch_Log']  # Access the switch log data\n",
    "    \n",
    "    # Extract relevant parameters from the switch log\n",
    "    SemiMajor = SWs['SemiMajorAxis'][()] * u.Rsun  # Semi-major axis in solar radii\n",
    "    Mass1 = SWs['Mass(1)'][()] * u.M_sun  # Mass of the first star in solar masses\n",
    "    Mass2 = SWs['Mass(2)'][()] * u.M_sun  # Mass of the second star in solar masses\n",
    "    Type1 = SWs['Stellar_Type(1)'][()]\n",
    "    Type2 = SWs['Stellar_Type(2)'][()]    \n",
    "    \n",
    "    \n",
    "    is_G_WD = is_G_WD_fun(Data)\n",
    "        \n",
    "    is_WD_G = is_WD_G_fun(Data)\n",
    "    \n",
    "    #############\n",
    "    \n",
    "    times = hasHotComp_mask_WD_G_unstable(Data, is_WD_G) # Myr\n",
    "        \n",
    "    periods = np.sqrt(4 * np.pi**2 * (SemiMajor[is_WD_G])**3 / (c.G * (Mass1[is_WD_G] + Mass2[is_WD_G])))\n",
    "\n",
    "    \n",
    "    #############\n",
    "    \n",
    "    # This part is often not necessary\n",
    "    if (list(is_G_WD).count(True) > 0): \n",
    "            \n",
    "        times_G_WD = hasHotComp_mask_G_WD_unstable(Data, is_G_WD)\n",
    "\n",
    "        periods1 = np.sqrt(4 * np.pi**2 * (SemiMajor[is_G_WD])**3 / (c.G * (Mass1[is_G_WD] + Mass2[is_G_WD])))\n",
    "\n",
    "\n",
    "        times = np.concatenate([times, times_G_WD])\n",
    "        periods = np.concatenate([periods, periods1])\n",
    "    \n",
    "    return times, periods.to(u.day)  # Convert periods to days"
   ]
  },
  {
   "cell_type": "markdown",
   "id": "27848b59",
   "metadata": {},
   "source": [
    "# Results SyNe"
   ]
  },
  {
   "cell_type": "code",
   "execution_count": 9,
   "id": "0071462d",
   "metadata": {},
   "outputs": [
    {
     "name": "stdout",
     "output_type": "stream",
     "text": [
      "It has been running for 192.0 seconds.\n",
      "Twostage done\n"
     ]
    }
   ],
   "source": [
    "start = time.time()\n",
    "\n",
    "log_periods_obs = np.log10(periods_obs)\n",
    "\n",
    "weight_2stage, periods_data2Stage = timeWeight(data2Stage)\n",
    "\n",
    "log_periods_data2Stage = np.log10(periods_data2Stage.value)\n",
    "\n",
    "clear_output(wait=True)\n",
    "\n",
    "np.savetxt('../results/SyNe_results/twostage_results/2stage_log_periods', log_periods_data2Stage)\n",
    "np.savetxt('../results/SyNe_results/twostage_results/2stage_weights', weight_2stage.value)\n",
    "\n",
    "end = time.time()\n",
    "print(\"It has been running for\", np.round(end - start), \"seconds.\")\n",
    "print(\"Twostage done\")"
   ]
  },
  {
   "cell_type": "code",
   "execution_count": 10,
   "id": "5dca5bdb",
   "metadata": {},
   "outputs": [
    {
     "name": "stdout",
     "output_type": "stream",
     "text": [
      "It has been running for 936.0 seconds.\n",
      "Classic done\n"
     ]
    }
   ],
   "source": [
    "start = time.time()\n",
    "\n",
    "log_periods_dataClassics = []\n",
    "weight_Classics = []\n",
    "\n",
    "for dataClassic in dataEnergys:\n",
    "\n",
    "    weight_Classic, periods_dataClassic = timeWeight(dataClassic)\n",
    "    \n",
    "    weight_Classics.append(weight_Classic)\n",
    "\n",
    "    log_periods_dataClassic = np.log10(periods_dataClassic.value)\n",
    "\n",
    "    log_periods_dataClassics.append(log_periods_dataClassic)\n",
    "    \n",
    "    print(\"Classic subphase done\")\n",
    "    \n",
    "clear_output(wait=True)\n",
    "\n",
    "for i in range(len(energy_values)):\n",
    "\n",
    "    np.savetxt('../results/SyNe_results/classic_results/classic_log_periods' + str(energy_values[i]), log_periods_dataClassics[i])\n",
    "    np.savetxt('../results/SyNe_results/classic_results/classic_weights' + str(energy_values[i]), weight_Classics[i].value)\n",
    "\n",
    "end = time.time()\n",
    "print(\"It has been running for\", np.round(end - start), \"seconds.\")\n",
    "print(\"Classic done\")"
   ]
  },
  {
   "cell_type": "code",
   "execution_count": 11,
   "id": "0b007d93",
   "metadata": {},
   "outputs": [
    {
     "name": "stdout",
     "output_type": "stream",
     "text": [
      "It took 1592.0 seconds.\n",
      "Unstable done\n"
     ]
    }
   ],
   "source": [
    "log_periods_dataUnstables = []\n",
    "weight_Unstables = []\n",
    "\n",
    "for dataUnstable in dataUnstables:\n",
    "    \n",
    "    weight_Unstable, periods_dataUnstable = timeWeight(dataUnstable)\n",
    "    \n",
    "    weight_Unstables.append(weight_Unstable)\n",
    "\n",
    "    log_periods_dataUnstable = np.log10(periods_dataUnstable.value)\n",
    "\n",
    "    log_periods_dataUnstables.append(log_periods_dataUnstable)\n",
    "\n",
    "    print(\"Unstable subphase done\")\n",
    "    \n",
    "for i in range(len(energy_values)):\n",
    "\n",
    "    np.savetxt('../results/SyNe_results/unstable_results/unstable_log_periods' + str(energy_values[i]), log_periods_dataUnstables[i])\n",
    "    np.savetxt('../results/SyNe_results/unstable_results/unstable_weights' + str(energy_values[i]), weight_Unstables[i].value)\n",
    "    \n",
    "clear_output(wait=True)\n",
    "\n",
    "\n",
    "end = time.time()\n",
    "print(\"It took\", np.round(end - start), \"seconds.\")\n",
    "\n",
    "print(\"Unstable done\")"
   ]
  },
  {
   "cell_type": "code",
   "execution_count": 12,
   "id": "9dde4035",
   "metadata": {},
   "outputs": [
    {
     "name": "stdout",
     "output_type": "stream",
     "text": [
      "It has been running for 4987.0 seconds.\n",
      "Stable done\n"
     ]
    }
   ],
   "source": [
    "log_periods_dataStables = []\n",
    "weight_Stables = []\n",
    "\n",
    "for dataStable in dataStables:\n",
    "    \n",
    "    weight_Stable, periods_dataStable = timeWeight(dataStable)\n",
    "    \n",
    "    weight_Stables.append(weight_Stable)\n",
    "\n",
    "    log_periods_dataStable = np.log10(periods_dataStable.value)\n",
    "\n",
    "    log_periods_dataStables.append(log_periods_dataStable)\n",
    "    \n",
    "    print(\"Stable subphase done\")\n",
    "    \n",
    "clear_output(wait=True)\n",
    "\n",
    "for g in range(len(gamma_values)):\n",
    "    for b in range(len(beta_values)):\n",
    "        np.savetxt('../results/SyNe_results/stable_results/stable_log_periods_' + str(gamma_values[g]) + '_' + str(np.round(beta_values[b],2)), log_periods_dataStables[3 * g + b])\n",
    "        np.savetxt('../results/SyNe_results/stable_results/stable_weights_'     + str(gamma_values[g]) + '_' + str(np.round(beta_values[b],2)), weight_Stables[3 * g + b].value)\n",
    "\n",
    "        end = time.time()\n",
    "print(\"It has been running for\", np.round(end - start), \"seconds.\")\n",
    "print(\"Stable done\")"
   ]
  }
 ],
 "metadata": {
  "kernelspec": {
   "display_name": "Python 3 (ipykernel)",
   "language": "python",
   "name": "python3"
  },
  "language_info": {
   "codemirror_mode": {
    "name": "ipython",
    "version": 3
   },
   "file_extension": ".py",
   "mimetype": "text/x-python",
   "name": "python",
   "nbconvert_exporter": "python",
   "pygments_lexer": "ipython3",
   "version": "3.8.18"
  }
 },
 "nbformat": 4,
 "nbformat_minor": 5
}
