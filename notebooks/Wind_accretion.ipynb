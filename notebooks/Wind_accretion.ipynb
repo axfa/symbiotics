{
 "cells": [
  {
   "cell_type": "code",
   "execution_count": 1,
   "id": "c8222182",
   "metadata": {},
   "outputs": [],
   "source": [
    "import numpy as np\n",
    "import pandas as pd\n",
    "\n",
    "import astropy.units as u\n",
    "import astropy.constants as c\n",
    "\n",
    "from scipy.interpolate import LinearNDInterpolator"
   ]
  },
  {
   "cell_type": "code",
   "execution_count": 2,
   "id": "2d80a7c0",
   "metadata": {},
   "outputs": [],
   "source": [
    " # Grids of giants for different phases\n",
    "# Each grid consists of the giant mass at the beginning of the phase, total duration of its giantphase\n",
    "# and a list of masslosses evenly spaced between 0% of total duration to 100% of total duration in steps of 1%\n",
    "\n",
    "RGB_grid_inter = pd.read_pickle('../grids/RGB_grid_inter')\n",
    "HeB_grid_inter = pd.read_pickle('../grids/HeB_grid_inter')\n",
    "AGB_grid_inter = pd.read_pickle('../grids/AGB_grid_inter')\n",
    "\n",
    "tpAGB_grid_inter = pd.read_pickle('../grids/tpAGB_grid_inter')"
   ]
  },
  {
   "cell_type": "code",
   "execution_count": 3,
   "id": "bf76efcc",
   "metadata": {},
   "outputs": [],
   "source": [
    "RGB_Mdots = []\n",
    "for i in range(len(RGB_grid_inter['Mdot'])):\n",
    "    \n",
    "    RGB_Mdots.append(np.array(RGB_grid_inter['Mdot'][i]))\n",
    "    \n",
    "RGB_Mdots = np.array(RGB_Mdots)\n",
    "RGB_Mass0 = np.array(RGB_grid_inter['Mass0'])"
   ]
  },
  {
   "cell_type": "code",
   "execution_count": 4,
   "id": "62126a1c",
   "metadata": {},
   "outputs": [],
   "source": [
    "HeB_Mdots = []\n",
    "for i in range(len(HeB_grid_inter['Mdot'])):\n",
    "    \n",
    "    HeB_Mdots.append(np.array(HeB_grid_inter['Mdot'][i]))\n",
    "    \n",
    "HeB_Mdots = np.array(HeB_Mdots)\n",
    "HeB_Mass0 = np.array(HeB_grid_inter['Mass0'])"
   ]
  },
  {
   "cell_type": "code",
   "execution_count": 5,
   "id": "ecee470e",
   "metadata": {},
   "outputs": [],
   "source": [
    "AGB_Mdots = []\n",
    "for i in range(len(AGB_grid_inter['Mdot'])):\n",
    "    \n",
    "    AGB_Mdots.append(np.array(AGB_grid_inter['Mdot'][i]))\n",
    "    \n",
    "AGB_Mdots = np.array(AGB_Mdots)\n",
    "AGB_Mass0 = np.array(AGB_grid_inter['Mass0'])"
   ]
  },
  {
   "cell_type": "code",
   "execution_count": 6,
   "id": "1bb46e20",
   "metadata": {},
   "outputs": [],
   "source": [
    "tpAGB_Mdots = []\n",
    "for i in range(len(tpAGB_grid_inter['Mdot'])):\n",
    "    \n",
    "    tpAGB_Mdots.append(np.array(tpAGB_grid_inter['Mdot'][i]))\n",
    "    \n",
    "tpAGB_Mdots = np.array(tpAGB_Mdots)\n",
    "tpAGB_Mass0 = np.array(tpAGB_grid_inter['Mass0'])"
   ]
  },
  {
   "cell_type": "markdown",
   "id": "63673150",
   "metadata": {},
   "source": [
    "***"
   ]
  },
  {
   "cell_type": "code",
   "execution_count": 7,
   "id": "737033e8",
   "metadata": {},
   "outputs": [],
   "source": [
    "RGB_Mass0 = np.array(RGB_grid_inter['Mass0'])\n",
    "RGB_TimeTot = np.array(RGB_grid_inter['TimeTot'])\n",
    "RGB_stages = np.linspace(0,1,101)\n",
    "\n",
    "RGB_stage_mesh, RGB_Mass_mesh = np.meshgrid(RGB_stages, RGB_Mass0)\n",
    "\n",
    "\n",
    "Mdots_RGB_interp = LinearNDInterpolator(list(zip(RGB_stage_mesh.flatten(), RGB_Mass_mesh.flatten())), RGB_Mdots.flatten())"
   ]
  },
  {
   "cell_type": "code",
   "execution_count": 8,
   "id": "9c17f2d9",
   "metadata": {},
   "outputs": [],
   "source": [
    "HeB_Mass0 = np.array(HeB_grid_inter['Mass0'])\n",
    "HeB_TimeTot = np.array(HeB_grid_inter['TimeTot'])\n",
    "HeB_stages = np.linspace(0,1,101)\n",
    "\n",
    "HeB_stage_mesh, HeB_Mass_mesh = np.meshgrid(HeB_stages, HeB_Mass0)\n",
    "\n",
    "\n",
    "Mdots_HeB_interp = LinearNDInterpolator(list(zip(HeB_stage_mesh.flatten(), HeB_Mass_mesh.flatten())), HeB_Mdots.flatten())"
   ]
  },
  {
   "cell_type": "code",
   "execution_count": 9,
   "id": "bd918e84",
   "metadata": {},
   "outputs": [],
   "source": [
    "AGB_Mass0 = np.array(AGB_grid_inter['Mass0'])\n",
    "AGB_TimeTot = np.array(AGB_grid_inter['TimeTot'])\n",
    "AGB_stages = np.linspace(0,1,101)\n",
    "\n",
    "AGB_stage_mesh, AGB_Mass_mesh = np.meshgrid(AGB_stages, AGB_Mass0)\n",
    "\n",
    "\n",
    "Mdots_AGB_interp = LinearNDInterpolator(list(zip(AGB_stage_mesh.flatten(), AGB_Mass_mesh.flatten())), AGB_Mdots.flatten())"
   ]
  },
  {
   "cell_type": "code",
   "execution_count": 10,
   "id": "f1f5c440",
   "metadata": {},
   "outputs": [],
   "source": [
    "tpAGB_Mass0 = np.array(tpAGB_grid_inter['Mass0'])\n",
    "tpAGB_TimeTot = np.array(tpAGB_grid_inter['TimeTot'])\n",
    "tpAGB_stages = np.linspace(0,1,101)\n",
    "\n",
    "tpAGB_stage_mesh, tpAGB_Mass_mesh = np.meshgrid(tpAGB_stages, tpAGB_Mass0)\n",
    "\n",
    "\n",
    "Mdots_tpAGB_interp = LinearNDInterpolator(list(zip(tpAGB_stage_mesh.flatten(), tpAGB_Mass_mesh.flatten())), tpAGB_Mdots.flatten())"
   ]
  },
  {
   "cell_type": "code",
   "execution_count": 11,
   "id": "1e4ddcdd",
   "metadata": {},
   "outputs": [],
   "source": [
    "def interpWindLossALL_t(Type_G, M_G, t):\n",
    "        \n",
    "    ALL_grid_Mass0 = np.array([np.array(RGB_grid_inter['Mass0']), np.array(HeB_grid_inter['Mass0']), np.array(AGB_grid_inter['Mass0']), np.array(tpAGB_grid_inter['Mass0'])])[Type_G - 3]\n",
    "    ALL_grid_TimeTot = np.array([np.array(RGB_grid_inter['TimeTot']), np.array(HeB_grid_inter['TimeTot']), np.array(AGB_grid_inter['TimeTot']), np.array(tpAGB_grid_inter['TimeTot'])])[Type_G - 3]\n",
    "        \n",
    "    ############################\n",
    "    \n",
    "    TimeTot_RGB = np.interp(M_G.to(u.Msun).value, RGB_Mass0, RGB_TimeTot)\n",
    "    TimeTot_HeB = np.interp(M_G.to(u.Msun).value, HeB_Mass0, HeB_TimeTot)\n",
    "    TimeTot_AGB = np.interp(M_G.to(u.Msun).value, AGB_Mass0, AGB_TimeTot)\n",
    "    TimeTot_tpAGB = np.interp(M_G.to(u.Msun).value, tpAGB_Mass0, tpAGB_TimeTot)\n",
    "    \n",
    "    TimeTot_all = np.array([TimeTot_RGB,TimeTot_HeB,TimeTot_AGB,TimeTot_tpAGB])\n",
    "    \n",
    "    TimeTot_G = TimeTot_all[Type_G - 3, np.arange(len(M_G))] * u.Myr\n",
    "            \n",
    "    ############################\n",
    "\n",
    "    stage = (t/TimeTot_G).to(1).value\n",
    "            \n",
    "    stage[stage > 1] = 1\n",
    "        \n",
    "    ############################\n",
    "    \n",
    "    Mdots_RGB = Mdots_RGB_interp(stage,M_G)\n",
    "    \n",
    "    ############################\n",
    "\n",
    "    Mdots_HeB = Mdots_HeB_interp(stage,M_G)\n",
    "    \n",
    "    ############################\n",
    "\n",
    "    Mdots_AGB = Mdots_AGB_interp(stage,M_G)\n",
    "    \n",
    "    ############################\n",
    "\n",
    "    Mdots_tpAGB = Mdots_tpAGB_interp(stage,M_G)\n",
    "    \n",
    "    ############################\n",
    "    \n",
    "    Mdots_all = np.array([Mdots_RGB,Mdots_HeB,Mdots_AGB,Mdots_tpAGB])\n",
    "    \n",
    "    ############################\n",
    "\n",
    "    Mdots = Mdots_all[Type_G - 3, :, np.arange(len(M_G))]    \n",
    "    \n",
    "    return Mdots * u.Msun / u.yr"
   ]
  },
  {
   "cell_type": "markdown",
   "id": "e35119a5",
   "metadata": {},
   "source": [
    "## Accretion rate"
   ]
  },
  {
   "cell_type": "code",
   "execution_count": 12,
   "id": "13069ede",
   "metadata": {},
   "outputs": [],
   "source": [
    "# accretion rate\n",
    "def Mdot_acc(M_WD, a, v_orb, Mdot_G, R_G, M_G):\n",
    "\n",
    "    # for circles r = a, used in v_w\n",
    "    \n",
    "    vw = v_w(a, R_G, M_G)\n",
    "    \n",
    "    eps = 3/2\n",
    "    v = v_orb / vw\n",
    "    \n",
    "    Mdot_WD = (c.G * M_WD / vw**2)**2 * (eps / (2 * a**2)) / (1 + v**2)**(3/2) * Mdot_G\n",
    "    \n",
    "    return Mdot_WD.to(u.Msun / u.yr) # Msun yr^-1\n",
    "\n",
    "# accumulation rate\n",
    "def Mdot_accum(Mdotacc, M_WD):\n",
    "\n",
    "    alpha = alpha_H(Mdotacc, M_WD)\n",
    "        \n",
    "    Mdotaccum = alpha * Mdotacc\n",
    "    \n",
    "    return Mdotaccum.to(u.Msun / u.yr) # Msun yr^-1"
   ]
  },
  {
   "cell_type": "code",
   "execution_count": 13,
   "id": "5e1f3c47",
   "metadata": {},
   "outputs": [],
   "source": [
    "def v_w(r, R_G, M_G):\n",
    "    \n",
    "    return (alpha_w(r, R_G) * v_inf(M_G, R_G)).to(u.km / u.s)\n",
    "\n",
    "def alpha_w(r, R_d):\n",
    "    \n",
    "    return (0.04 * (r/R_d)**2 / (1 + 0.04 * (r/R_d)**2)).to(1)\n",
    "\n",
    "def v_inf(M, R):\n",
    "    \n",
    "    return (1/2 * v_esc(M, R)).to(u.km / u.s)\n",
    "\n",
    "def v_esc(M, R):\n",
    "    \n",
    "    return np.sqrt(2 * c.G * M / R).to(u.km / u.s)"
   ]
  },
  {
   "cell_type": "markdown",
   "id": "9f89924d",
   "metadata": {},
   "source": [
    "## Accumulation Efficiency"
   ]
  },
  {
   "cell_type": "code",
   "execution_count": 14,
   "id": "cd2b9960",
   "metadata": {},
   "outputs": [],
   "source": [
    "# is this correct?\n",
    "def Mdot_st(M_WD):\n",
    "    \n",
    "    return 10**( -9.31 + 4.12 * M_WD.to(u.Msun).value -1.42 * (M_WD.to(u.Msun).value)**2 ) * u.Msun / u.yr\n",
    "\n",
    "# still not sure whether the next should be in g or Msun\n",
    "def Mdot_ws(M_WD):\n",
    "            \n",
    "    Mdot_ws_low  = 10**(-11.01 + 6 * M_WD.to(u.Msun).value - 1.90 * (M_WD.to(u.Msun).value)**2) * u.Msun / u.yr\n",
    "    \n",
    "    Mdot_ws_high = np.ones(len(M_WD)) * 10**(-7.0) * u.Msun / u.yr\n",
    "    \n",
    "    Mdot_ws_both = np.array([Mdot_ws_high, Mdot_ws_low]) # I changed this, so maybe check again later\n",
    "    \n",
    "    Mdot_ws_ind = (M_WD <= 1 * u.Msun) + 0\n",
    "    \n",
    "    Mdot = np.zeros(len(M_WD))\n",
    "    \n",
    "    for i in range(len(M_WD)):\n",
    "        Mdot[i] = Mdot_ws_both[Mdot_ws_ind[i],i]\n",
    "        \n",
    "    return Mdot * u.Msun / u.yr"
   ]
  },
  {
   "cell_type": "code",
   "execution_count": 15,
   "id": "f21e0781",
   "metadata": {},
   "outputs": [],
   "source": [
    "# normally we need the efficiency alpha that depends on weak/strong\n",
    "def isStable(M_WD, Mdot_acc):\n",
    "        \n",
    "    return Mdot_acc > Mdot_st(M_WD)\n",
    "    \n",
    "def isWeak(M_WD, Mdot_acc):\n",
    "    \n",
    "    return Mdot_acc > Mdot_ws(M_WD)"
   ]
  },
  {
   "cell_type": "code",
   "execution_count": 16,
   "id": "207e10ad",
   "metadata": {},
   "outputs": [],
   "source": [
    "# Accumulation efficiency\n",
    "\n",
    "def alpha_H(Mdot_acc, M_WD):\n",
    "    \n",
    "    alphas_weak   = alpha_H_weak(Mdot_acc)\n",
    "    alphas_strong = alpha_H_strong(M_WD)\n",
    "\n",
    "    alphas_both = np.array([alphas_strong, alphas_weak])\n",
    "    \n",
    "    alphas_H = np.zeros(len(Mdot_acc))\n",
    "        \n",
    "    alpha_both_ind = isWeak(M_WD, Mdot_acc) + 0 # weak get index 1 and strong index 0 (True + 0 = 1, False + 0 = 0)\n",
    "        \n",
    "    for i in range(len(Mdot_acc)):\n",
    "        alphas_H[i] = alphas_both[alpha_both_ind[i],i]\n",
    "    \n",
    "    return alphas_H\n",
    "\n",
    "\n",
    "def alpha_H_weak(Mdot_acc):\n",
    "    \n",
    "    log_Mdot = np.log10(Mdot_acc.to(u.Msun / u.yr).value)\n",
    "    \n",
    "    alpha_low  = (-4.39 - 1.48 * log_Mdot - 0.1  * log_Mdot**2)\n",
    "    alpha_high = (11.66 + 4.56 * log_Mdot + 0.45 * log_Mdot**2)\n",
    "    \n",
    "    alpha_both = np.array([alpha_low, alpha_high])\n",
    "    \n",
    "    #possibly quite slow\n",
    "    alphas = np.zeros(len(Mdot_acc))\n",
    "\n",
    "    alpha_both_ind = (log_Mdot >= -6.36) + 0\n",
    "    \n",
    "    for i in range(len(Mdot_acc)):\n",
    "        alphas[i] = alpha_both[alpha_both_ind[i],i]\n",
    "    \n",
    "    return alphas\n",
    "    \n",
    "def alpha_H_strong(M_WD):\n",
    "    \n",
    "    return (-0.1391 + 0.7548 * M_WD.to(u.Msun).value - 1.0124 * (M_WD.to(u.Msun).value)**2 + 0.4739 * (M_WD.to(u.Msun).value)**3)"
   ]
  },
  {
   "cell_type": "markdown",
   "id": "bea32db8",
   "metadata": {},
   "source": [
    "## Critical Ignition Mass"
   ]
  },
  {
   "cell_type": "code",
   "execution_count": 17,
   "id": "446cfe71",
   "metadata": {},
   "outputs": [],
   "source": [
    "# in solar masses\n",
    "def ign_mass(M_WD):\n",
    "    \n",
    "    R_zt_WD = R_zeroTemp_WD(M_WD)\n",
    "    \n",
    "    return 2 * 10**(-6) * (M_WD.to(u.g).value / R_zt_WD.to(u.cm).value**4)**(-0.8) * u.Msun\n",
    "\n",
    "def R_zeroTemp_WD(M_WD):\n",
    "    \n",
    "    M_ch = 1.433 * u.Msun\n",
    "    \n",
    "    return (1.12 * 10**(-2) * u.Rsun * ( (M_WD/M_ch).to(1)**(-2/3) - (M_WD/M_ch).to(1)**(2/3) )**(1/2)).to(u.cm)"
   ]
  },
  {
   "cell_type": "markdown",
   "id": "d7bc10c6",
   "metadata": {},
   "source": [
    "## Lifetime SyS phase"
   ]
  },
  {
   "cell_type": "code",
   "execution_count": 18,
   "id": "29a21333",
   "metadata": {},
   "outputs": [],
   "source": [
    "# in year\n",
    "def t_on_fun(Mdot_acc, M_WD, R_WD):\n",
    "    \n",
    "    L_WD = L_H(M_WD)\n",
    "    \n",
    "    return (6.9 * 10**10 * (alpha_H(Mdot_acc, M_WD) * ign_mass(M_WD).to(u.Msun).value / L_WD.to(u.Lsun).value) * u.yr).to(u.Myr)\n",
    "\n",
    "def t_cool_fun(M_WD):\n",
    "    \n",
    "    L_WD = L_H(M_WD)\n",
    "    \n",
    "    return ((10 / L_WD.to(u.Lsun).value)**(-1/1.14) * u.yr).to(u.Myr)"
   ]
  },
  {
   "cell_type": "markdown",
   "id": "1ccf57b2",
   "metadata": {},
   "source": [
    "## Luminosity"
   ]
  },
  {
   "cell_type": "code",
   "execution_count": 19,
   "id": "91d2f589",
   "metadata": {},
   "outputs": [],
   "source": [
    "def L_Sy(M_WD, R_WD, Mdotaccum):\n",
    "    \n",
    "    return L_H(M_WD) + L_grav(M_WD, R_WD, Mdotaccum)\n",
    "\n",
    "# I am assuming that the M_core comes from the M_WD without the accreted mass but this should be checked\n",
    "\n",
    "def L_H(M_WD):\n",
    "    \n",
    "    return 4.6 * 10**4 * (M_WD.to(u.Msun).value - 0.26) * u.Lsun\n",
    "\n",
    "# Until I know how Lu got alpha = 0.1 I will take alpha = 0.15 from Yaron\n",
    "\n",
    "def L_grav(M_WD, R_WD, Mdotaccum):\n",
    "        \n",
    "    return (0.15 * c.G * M_WD * Mdotaccum / R_WD).to(u.Lsun)"
   ]
  }
 ],
 "metadata": {
  "kernelspec": {
   "display_name": "Python 3 (ipykernel)",
   "language": "python",
   "name": "python3"
  },
  "language_info": {
   "codemirror_mode": {
    "name": "ipython",
    "version": 3
   },
   "file_extension": ".py",
   "mimetype": "text/x-python",
   "name": "python",
   "nbconvert_exporter": "python",
   "pygments_lexer": "ipython3",
   "version": "3.8.18"
  }
 },
 "nbformat": 4,
 "nbformat_minor": 5
}
