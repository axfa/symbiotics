{
 "cells": [
  {
   "cell_type": "code",
   "execution_count": 1,
   "id": "97a3866f",
   "metadata": {},
   "outputs": [],
   "source": [
    "def isSymb(Data):\n",
    "    \n",
    "    return isDetached(Data) & hasHotComp(Data) & hasGiant(Data)"
   ]
  },
  {
   "cell_type": "code",
   "execution_count": 2,
   "id": "742d8665",
   "metadata": {},
   "outputs": [],
   "source": [
    "def isDetached(Data):\n",
    "    \n",
    "    SWs = Data['BSE_Switch_Log']  # Access the switch log data\n",
    "    \n",
    "    # Return true if the mass transfer rate of the donor star is zero\n",
    "    return SWs['MassTransferRateDonor'][()] == 0"
   ]
  },
  {
   "cell_type": "code",
   "execution_count": 3,
   "id": "df82a76f",
   "metadata": {},
   "outputs": [],
   "source": [
    "def hasGiant(Type_G):\n",
    "\n",
    "    #TypeGiant = (Type_G == 3) | (Type_G == 4) | (Type_G == 5) | (Type_G == 6)\n",
    "\n",
    "    # Return true if either star is a giant\n",
    "    return (Type_G <= 6) & (Type_G >= 3)\n",
    "\n",
    "# maybe try to implement\n",
    "#giantTypes = np.array([3,4,5,6])\n",
    "#hasGiant = np.in1D(stype, giantTypes)"
   ]
  },
  {
   "cell_type": "code",
   "execution_count": 4,
   "id": "295badee",
   "metadata": {},
   "outputs": [],
   "source": [
    "def hasWD(Type_WD):\n",
    "\n",
    "    TypeWD = (Type_WD >= 10) & (Type_WD <= 12)\n",
    "\n",
    "    # Return true if either star is a giant\n",
    "    return TypeWD"
   ]
  },
  {
   "cell_type": "code",
   "execution_count": 5,
   "id": "18dcabd6",
   "metadata": {},
   "outputs": [],
   "source": [
    "# This form only works for Switchlogs\n",
    "def is_G_WD_fun(Data):\n",
    "    \n",
    "    SWs = Data['BSE_Switch_Log']  # Access the switch log data\n",
    "    \n",
    "    Type1 = SWs['Stellar_Type(1)'][()]\n",
    "    Type2 = SWs['Stellar_Type(2)'][()]    \n",
    "    \n",
    "    return isDetached(Data) & hasGiant(Type1) & hasWD(Type2)"
   ]
  },
  {
   "cell_type": "code",
   "execution_count": 6,
   "id": "7d4a63e1",
   "metadata": {},
   "outputs": [],
   "source": [
    "def is_WD_G_fun(Data):\n",
    "\n",
    "    SWs = Data['BSE_Switch_Log']  # Access the switch log data\n",
    "    \n",
    "    Type1 = SWs['Stellar_Type(1)'][()]\n",
    "    Type2 = SWs['Stellar_Type(2)'][()] \n",
    "    \n",
    "    return isDetached(Data) & hasGiant(Type2) & hasWD(Type1)"
   ]
  }
 ],
 "metadata": {
  "kernelspec": {
   "display_name": "Python 3 (ipykernel)",
   "language": "python",
   "name": "python3"
  },
  "language_info": {
   "codemirror_mode": {
    "name": "ipython",
    "version": 3
   },
   "file_extension": ".py",
   "mimetype": "text/x-python",
   "name": "python",
   "nbconvert_exporter": "python",
   "pygments_lexer": "ipython3",
   "version": "3.8.18"
  }
 },
 "nbformat": 4,
 "nbformat_minor": 5
}
