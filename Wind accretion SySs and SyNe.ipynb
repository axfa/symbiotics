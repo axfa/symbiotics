{
 "cells": [
  {
   "cell_type": "markdown",
   "id": "b1b2e439",
   "metadata": {},
   "source": [
    "The code might be more detailed if I looked at momental R_G like I do with Mdot_G, though this might not be worth the longer runtime."
   ]
  },
  {
   "cell_type": "markdown",
   "id": "65c0ed40",
   "metadata": {},
   "source": [
    "# Packages"
   ]
  },
  {
   "cell_type": "raw",
   "id": "b1e14f9e",
   "metadata": {},
   "source": [
    "from IPython.display import display, HTML\n",
    "display(HTML(\"<style>.container { width:100% !import; }</style>\"))"
   ]
  },
  {
   "cell_type": "code",
   "execution_count": 1,
   "id": "a19354e0",
   "metadata": {},
   "outputs": [],
   "source": [
    "import os, sys\n",
    "import numpy as np\n",
    "import h5py as h5\n",
    "\n",
    "import astropy.constants as c\n",
    "import astropy.units as u\n",
    "import matplotlib.pyplot as plt\n",
    "import pandas as pd\n",
    "from scipy.stats import gaussian_kde\n",
    "from scipy.interpolate import interpn\n",
    "\n",
    "from IPython.display import clear_output\n",
    "import time"
   ]
  },
  {
   "cell_type": "markdown",
   "id": "50b4ad02",
   "metadata": {},
   "source": [
    "# Importing data"
   ]
  },
  {
   "cell_type": "markdown",
   "id": "bc997689",
   "metadata": {},
   "source": [
    "Defining the paths to the data"
   ]
  },
  {
   "cell_type": "code",
   "execution_count": 2,
   "id": "fe9f4d7f",
   "metadata": {},
   "outputs": [],
   "source": [
    "path = '/STER/axelf/'  # Base directory for storing all files\n",
    "\n",
    "# Define paths to different categories of data\n",
    "path_data = path + 'simulations/'\n",
    "path_energy = path_data + 'classic/'\n",
    "path_twostage = path_data + 'twostage/'\n",
    "path_unstable = path_data + 'unstable/'\n",
    "path_stable = path_data + 'stable/'\n",
    "\n",
    "# Define the path for observed data\n",
    "path_obs = path + 'observations/'"
   ]
  },
  {
   "cell_type": "markdown",
   "id": "d6ddfc94",
   "metadata": {},
   "source": [
    "Loading the data"
   ]
  },
  {
   "cell_type": "code",
   "execution_count": 3,
   "id": "90ada7b6",
   "metadata": {},
   "outputs": [],
   "source": [
    "# Load observed periods data\n",
    "periods_obs = np.loadtxt(path_obs + '/periods.txt')"
   ]
  },
  {
   "cell_type": "markdown",
   "id": "75b0a6b6",
   "metadata": {},
   "source": [
    "Loading forced stable MT data for the different values of $\\gamma$ = {0,0.5,1} and $\\beta$ = {0,0.1,0.2,0.3,0.4,0.5}"
   ]
  },
  {
   "cell_type": "code",
   "execution_count": 4,
   "id": "30654abf",
   "metadata": {},
   "outputs": [],
   "source": [
    "dataStables = []  # List to store data files for stable simulations\n",
    "paramsStable = []  # List to store parameter sets (beta, gamma) for stable simulations\n",
    "\n",
    "# Define gamma values and beta values range\n",
    "gamma_values = [0.0, 0.5, 1.0]  # Specific gamma values to iterate over\n",
    "beta_values = np.linspace(0.0, 1, 6)  # Beta values ranging from 0 to 1 in 6 steps\n",
    "\n",
    "# Loop over different values of gamma and beta to load the corresponding simulation data\n",
    "for g in gamma_values:  # Iterate over specified gamma values\n",
    "    for b in beta_values:  # Iterate over beta values\n",
    "                \n",
    "        # Append the (beta, gamma) parameter pair to the paramsStable list\n",
    "        paramsStable.append([b, g])\n",
    "        \n",
    "        # Construct the file path using formatted strings for clarity\n",
    "        file_path = path_stable + \"gamma_\" + str(g) + \"/beta_\" + str(np.around(b,1)) + \"/output_1/COMPAS_Output.h5\"\n",
    "        \n",
    "        # Load the simulation data file (.h5 format) for the current beta and gamma\n",
    "        dataStables.append(h5.File(file_path, 'r'))  # 'r' mode for read access\n"
   ]
  },
  {
   "cell_type": "markdown",
   "id": "3a74015e",
   "metadata": {},
   "source": [
    "Loading classical MT data with $\\alpha_{CE}$ = {$10^{-1}, 10^{-0.5}, 10^{0}, 10^{0.5}, 10^1$}"
   ]
  },
  {
   "cell_type": "code",
   "execution_count": 5,
   "id": "ca8a5d88",
   "metadata": {},
   "outputs": [],
   "source": [
    "# Initialize a list to store energy data files\n",
    "dataEnergys = []  # List to store data files for energy simulations\n",
    "\n",
    "# Define the range of energy parameter values\n",
    "energy_values = [-1, -0.5, 0, 0.5, 1]  # Specific energy parameter values\n",
    "\n",
    "# Loop over specified energy parameter values to load corresponding simulation data\n",
    "for energy in energy_values:\n",
    "    # Construct the file path using formatted strings for clarity\n",
    "    file_path = path_energy + \"output_\" + str(energy) +\"_1/COMPAS_Output.h5\"\n",
    "    \n",
    "    # Load the simulation data file (.h5 format) for the current energy value\n",
    "    dataEnergys.append(h5.File(file_path, 'r'))  # 'r' mode for read access"
   ]
  },
  {
   "cell_type": "markdown",
   "id": "0e4cc188",
   "metadata": {},
   "source": [
    "Loading forced unstable MT data with $\\alpha_{CE}$ = {$10^{-1}, 10^{-0.5}, 10^{0}, 10^{0.5}, 10^1$}"
   ]
  },
  {
   "cell_type": "code",
   "execution_count": 6,
   "id": "828c469c",
   "metadata": {},
   "outputs": [],
   "source": [
    "# Initialize a list to store energy data files\n",
    "dataUnstables = []  # List to store data files for energy simulations\n",
    "\n",
    "# Loop over specified energy parameter values to load corresponding simulation data\n",
    "for energy in energy_values:\n",
    "    # Construct the file path using formatted strings for clarity\n",
    "    file_path = path_unstable + \"output_\" + str(energy) +\"_1/COMPAS_Output.h5\"\n",
    "    \n",
    "    # Load the simulation data file (.h5 format) for the current energy value\n",
    "    dataUnstables.append(h5.File(file_path, 'r'))  # 'r' mode for read access"
   ]
  },
  {
   "cell_type": "markdown",
   "id": "44704b6b",
   "metadata": {},
   "source": [
    "Loading two-stage CE phase data which doesn't have free parameters "
   ]
  },
  {
   "cell_type": "code",
   "execution_count": 7,
   "id": "6c43dc01",
   "metadata": {},
   "outputs": [],
   "source": [
    "# Load two-stage simulation data\n",
    "data2Stage = h5.File(path_twostage + \"output_1/COMPAS_Output.h5\", 'r')  # Load two-stage data file"
   ]
  },
  {
   "cell_type": "markdown",
   "id": "dc8d5eba",
   "metadata": {},
   "source": [
    "# Wind implementation"
   ]
  },
  {
   "cell_type": "markdown",
   "id": "8eeddcf9",
   "metadata": {},
   "source": [
    "## Wind loss interpolation"
   ]
  },
  {
   "cell_type": "markdown",
   "id": "e458ba7c",
   "metadata": {},
   "source": [
    "Because the massloss of a giant changes drastically during its evolution, we will use a grid of single evolved giants to interpolate an approximate massloss at that point of the stars evolution."
   ]
  },
  {
   "cell_type": "code",
   "execution_count": 8,
   "id": "8b7fb9eb",
   "metadata": {},
   "outputs": [],
   "source": [
    "# Grids of giants for different phases\n",
    "# Each grid consists of the giant mass at the beginning of the phase, total duration of its giantphase\n",
    "# and a list of masslosses evenly spaced between 0% of total duration to 100% of total duration in steps of 1%\n",
    "\n",
    "RGB_grid_inter = pd.read_pickle('RGB_grid_inter')\n",
    "HeB_grid_inter = pd.read_pickle('HeB_grid_inter')\n",
    "AGB_grid_inter = pd.read_pickle('AGB_grid_inter')\n",
    "\n",
    "tpAGB_grid_inter = pd.read_pickle('tpAGB_grid_inter')"
   ]
  },
  {
   "cell_type": "markdown",
   "id": "9e394cbf",
   "metadata": {},
   "source": [
    "Since XXX_grid_inter\\['Mdot'\\] is a list of lists we want an array of array (or at least at one point we wanted this). This might not be very efficient but it doesn't take that long and it only has to be done once so I won't put any more time in it."
   ]
  },
  {
   "cell_type": "code",
   "execution_count": 9,
   "id": "efde8574",
   "metadata": {},
   "outputs": [],
   "source": [
    "RGB_Mdots = []\n",
    "for i in range(len(RGB_grid_inter['Mdot'])):\n",
    "    \n",
    "    RGB_Mdots.append(np.array(RGB_grid_inter['Mdot'][i]))\n",
    "    \n",
    "RGB_Mdots = np.array(RGB_Mdots)\n",
    "RGB_Mass0 = np.array(RGB_grid_inter['Mass0'])"
   ]
  },
  {
   "cell_type": "code",
   "execution_count": 10,
   "id": "8e2e26f3",
   "metadata": {},
   "outputs": [],
   "source": [
    "HeB_Mdots = []\n",
    "for i in range(len(HeB_grid_inter['Mdot'])):\n",
    "    \n",
    "    HeB_Mdots.append(np.array(HeB_grid_inter['Mdot'][i]))\n",
    "    \n",
    "HeB_Mdots = np.array(HeB_Mdots)\n",
    "HeB_Mass0 = np.array(HeB_grid_inter['Mass0'])"
   ]
  },
  {
   "cell_type": "code",
   "execution_count": 11,
   "id": "7da55983",
   "metadata": {},
   "outputs": [],
   "source": [
    "AGB_Mdots = []\n",
    "for i in range(len(AGB_grid_inter['Mdot'])):\n",
    "    \n",
    "    AGB_Mdots.append(np.array(AGB_grid_inter['Mdot'][i]))\n",
    "    \n",
    "AGB_Mdots = np.array(AGB_Mdots)\n",
    "AGB_Mass0 = np.array(AGB_grid_inter['Mass0'])"
   ]
  },
  {
   "cell_type": "code",
   "execution_count": 12,
   "id": "c95b0917",
   "metadata": {},
   "outputs": [],
   "source": [
    "tpAGB_Mdots = []\n",
    "for i in range(len(tpAGB_grid_inter['Mdot'])):\n",
    "    \n",
    "    tpAGB_Mdots.append(np.array(tpAGB_grid_inter['Mdot'][i]))\n",
    "    \n",
    "tpAGB_Mdots = np.array(tpAGB_Mdots)\n",
    "tpAGB_Mass0 = np.array(tpAGB_grid_inter['Mass0'])"
   ]
  },
  {
   "cell_type": "markdown",
   "id": "62c3232a",
   "metadata": {},
   "source": [
    "The next function gives the approximate massloss interpolated from the single giant evolution grids. M_G is the mass at the beginning of the giant phase."
   ]
  },
  {
   "cell_type": "markdown",
   "id": "8c41ef1d",
   "metadata": {},
   "source": [
    "The Types are:\n",
    "- RGB: 3\n",
    "- He-burning: 4\n",
    "- AGB: 5\n",
    "- Thermal pulsating AGB: 6\n",
    "\n",
    "By subtracting 3 we can use this as indices for \\[RGB,HeB,AGB,tpAGB\\].\n",
    "\n",
    "ALL_grid_Mass0 and ALL_grid_TimeTot are arrays that containt an array of Mass0/TimeTot for each systems depending on the stage it is in. This is very space inefficient but it is quite quick. We cannot do this for the Mdot as the dimensions of this require incredibly large memory. \n",
    "\n",
    "ALL_grid_Mdot instead holds the 4 arrays of Mdot from which the system can choose. This is then looped over for each system for each timestep (because np.interp does not work with multiple dimensions and I didn't really understand how to use the other functions). This is the largest (or actually smallest) bottleneck, so by optimizing this a lot of time could be saved."
   ]
  },
  {
   "cell_type": "code",
   "execution_count": 13,
   "id": "06821112",
   "metadata": {},
   "outputs": [],
   "source": [
    "def interpWindLossALL_t(Type_G, M_G, t):\n",
    "        \n",
    "    ALL_grid_Mass0 = np.array([np.array(RGB_grid_inter['Mass0']), np.array(HeB_grid_inter['Mass0']), np.array(AGB_grid_inter['Mass0']), np.array(tpAGB_grid_inter['Mass0'])])[Type_G - 3]\n",
    "    ALL_grid_TimeTot = np.array([np.array(RGB_grid_inter['TimeTot']), np.array(HeB_grid_inter['TimeTot']), np.array(AGB_grid_inter['TimeTot']), np.array(tpAGB_grid_inter['TimeTot'])])[Type_G - 3]\n",
    "        \n",
    "    ############################\n",
    "\n",
    "    TimeTot_G = []\n",
    "    \n",
    "    for i in range(len(M_G)):\n",
    "        TimeTot_G.append(np.interp(M_G.value[i], ALL_grid_Mass0[i], ALL_grid_TimeTot[i]))\n",
    "        \n",
    "    TimeTot_G = np.array(TimeTot_G) * u.Myr\n",
    "                \n",
    "    ############################\n",
    "\n",
    "    stage = np.rint(100 * (t/TimeTot_G).to(1).value).astype(dtype = int)\n",
    "            \n",
    "    stage[stage > 100] = 100\n",
    "\n",
    "    ALL_grid_Mdot = np.array([RGB_Mdots,HeB_Mdots,AGB_Mdots,tpAGB_Mdots], dtype = 'float')\n",
    "    \n",
    "    Mdots = np.zeros((len(M_G),len(t)))\n",
    "    \n",
    "    for j in range(len(t)):\n",
    "        Mdots[:, j] = np.array([np.interp(M_G[i].value, ALL_grid_Mass0[i], ALL_grid_Mdot[Type_G[i] - 3][:,stage[j,i]]) for i in range(len(M_G))])   \n",
    "                \n",
    "    return Mdots * u.Msun / u.yr"
   ]
  },
  {
   "cell_type": "markdown",
   "id": "f7b0115b",
   "metadata": {},
   "source": [
    "## Accretion rate"
   ]
  },
  {
   "cell_type": "markdown",
   "id": "e5ac2384",
   "metadata": {},
   "source": [
    "Mdot_acc is the accretion rate of stellar wind from \\[Bondi & Hoyle et al. (1944)\\]. From all the mass that is accreted not all is accumulated (due to winds from the WD), the factor of accreted mass that is also accumulated is called the accumulation factor $\\alpha_H$."
   ]
  },
  {
   "cell_type": "code",
   "execution_count": 14,
   "id": "960d4c2c",
   "metadata": {},
   "outputs": [],
   "source": [
    "# accretion rate\n",
    "def Mdot_acc(M_WD, a, v_orb, Mdot_G, R_G, M_G):\n",
    "\n",
    "    # for circles r = a, used in v_w\n",
    "    \n",
    "    vw = v_w(a, R_G, M_G)\n",
    "    \n",
    "    eps = 3/2\n",
    "    v = v_orb / vw\n",
    "    \n",
    "    Mdot_WD = (c.G * M_WD / vw**2) **2 * (eps / (2 * a**2)) / (1 + v**2)**(3/2) * Mdot_G\n",
    "    \n",
    "    return Mdot_WD.to(u.Msun / u.yr) # Msun yr^-1\n",
    "\n",
    "# accumulation rate\n",
    "def Mdot_accum(Mdotacc, M_WD):\n",
    "\n",
    "    alpha = alpha_H(Mdotacc, M_WD)\n",
    "        \n",
    "    Mdotaccum = alpha * Mdotacc\n",
    "    \n",
    "    return Mdotaccum.to(u.Msun / u.yr) # Msun yr^-1"
   ]
  },
  {
   "cell_type": "markdown",
   "id": "e03f610f",
   "metadata": {},
   "source": [
    "The next block is all about calculating the wind velocity. For v_inf we use 1/2 v_esc, I don't know whether is a common choice or whether this should be cited from somewhere (I took it from \\[Lu et al (2006)\\]). \\[YLTK (1995)\\] defined the wind velocity as $v_w = \\alpha_w v_\\infty$. \\[Lü et al.\\] also mention another (empirical) formula for $\\alpha_w$."
   ]
  },
  {
   "cell_type": "code",
   "execution_count": 15,
   "id": "774f7adb",
   "metadata": {},
   "outputs": [],
   "source": [
    "def v_w(r, R_G, M_G):\n",
    "    \n",
    "    return (alpha_w(r, R_G) * v_inf(M_G, R_G)).to(u.km / u.s)\n",
    "\n",
    "def alpha_w(r, R_d):\n",
    "    \n",
    "    return (0.04 * (r/R_d)**2 / (1 + 0.04 * (r/R_d)**2)).to(1)\n",
    "\n",
    "def v_inf(M, R):\n",
    "    \n",
    "    return (1/2 * v_esc(M, R)).to(u.km / u.s)\n",
    "\n",
    "def v_esc(M, R):\n",
    "    \n",
    "    return np.sqrt(2 * c.G * M / R).to(u.km / u.s)"
   ]
  },
  {
   "cell_type": "markdown",
   "id": "9930ff2c",
   "metadata": {},
   "source": [
    "## Accumulation Efficiency"
   ]
  },
  {
   "cell_type": "markdown",
   "id": "e5ce8f62",
   "metadata": {},
   "source": [
    "The $accretion$-rate at which the WD will have stable H-burning is Mdot_st \\[Iben & Tutukov (1989)\\]. The accumulation effeciency of the WD is never gonna be 100%. The fraction of accreted mass accumulated depends of the mass and accretion rate of the WD. The boundary between strong abd weaj SyNe is the Mdot_ws \\[Yaron et al. (2005)\\]. Above this rate (but below Mdot_st) we have weak SyNe, and below this we have strong SyNe."
   ]
  },
  {
   "cell_type": "code",
   "execution_count": 16,
   "id": "2d7af869",
   "metadata": {},
   "outputs": [],
   "source": [
    "# is this correct?\n",
    "def Mdot_st(M_WD):\n",
    "    \n",
    "    return 10**( -9.31 + 4.12 * M_WD.to(u.Msun).value -1.42 * (M_WD.to(u.Msun).value)**2 ) * u.Msun / u.yr\n",
    "\n",
    "def Mdot_ws(M_WD):\n",
    "            \n",
    "    Mdot_ws_low  = 10**(-11.01 + 6 * M_WD.to(u.Msun).value - 1.90 * (M_WD.to(u.Msun).value)**2) * u.Msun / u.yr\n",
    "    \n",
    "    Mdot_ws_high = np.ones(len(M_WD)) * 10**(-7.0) * u.Msun / u.yr\n",
    "    \n",
    "    Mdot_ws_both = np.array([Mdot_ws_low, Mdot_ws_high])\n",
    "    \n",
    "    Mdot_ws_ind = (M_WD <= 1 * u.Msun) + 0\n",
    "    \n",
    "    Mdot = np.zeros(len(M_WD))\n",
    "    \n",
    "    for i in range(len(M_WD)):\n",
    "        Mdot[i] = Mdot_ws_both[Mdot_ws_ind[i],i]\n",
    "        \n",
    "    return Mdot * u.Msun / u.yr"
   ]
  },
  {
   "cell_type": "code",
   "execution_count": 17,
   "id": "469fb792",
   "metadata": {},
   "outputs": [],
   "source": [
    "# normally we need the efficiency alpha that depends on weak/strong\n",
    "def isStable(M_WD, Mdot_acc):\n",
    "        \n",
    "    return Mdot_acc > Mdot_st(M_WD)\n",
    "    \n",
    "def isWeak(M_WD, Mdot_acc):\n",
    "    \n",
    "    return Mdot_acc > Mdot_ws(M_WD)"
   ]
  },
  {
   "cell_type": "markdown",
   "id": "164f4d28",
   "metadata": {},
   "source": [
    "The difference between weak and strong SyNe is the accumulation efficiency. For weak \\[Iben & Tutukov (1996)\\], for strong \\[Lü et al\\] based on data of \\[Yaron et al. (2005)\\]."
   ]
  },
  {
   "cell_type": "code",
   "execution_count": 18,
   "id": "143658f9",
   "metadata": {},
   "outputs": [],
   "source": [
    "# Accumulation efficiency\n",
    "\n",
    "def alpha_H(Mdot_acc, M_WD):\n",
    "    \n",
    "    alphas_weak   = alpha_H_weak(Mdot_acc)\n",
    "    alphas_strong = alpha_H_strong(M_WD)\n",
    "\n",
    "    alphas_both = np.array([alphas_strong, alphas_weak])\n",
    "    \n",
    "    alphas_H = np.zeros(len(Mdot_acc))\n",
    "        \n",
    "    alpha_both_ind = isWeak(M_WD, Mdot_acc) + 0 # weak get index 1 and strong index 0 (True + 0 = 1, False + 0 = 0)\n",
    "        \n",
    "    for i in range(len(Mdot_acc)):\n",
    "        alphas_H[i] = alphas_both[alpha_both_ind[i],i]\n",
    "    \n",
    "    return alphas_H\n",
    "\n",
    "\n",
    "def alpha_H_weak(Mdot_acc):\n",
    "    \n",
    "    log_Mdot = np.log10(Mdot_acc.to(u.Msun / u.yr).value)\n",
    "    \n",
    "    alpha_low  = (-4.39 - 1.48 * log_Mdot - 0.1  * log_Mdot**2)\n",
    "    alpha_high = (11.66 + 4.56 * log_Mdot + 0.45 * log_Mdot**2)\n",
    "    \n",
    "    alpha_both = np.array([alpha_low, alpha_high])\n",
    "    \n",
    "    #possibly quite slow\n",
    "    alphas = np.zeros(len(Mdot_acc))\n",
    "\n",
    "    alpha_both_ind = (log_Mdot >= -6.36) + 0\n",
    "    \n",
    "    for i in range(len(Mdot_acc)):\n",
    "        alphas[i] = alpha_both[alpha_both_ind[i],i]\n",
    "    \n",
    "    return alphas\n",
    "    \n",
    "def alpha_H_strong(M_WD):\n",
    "    \n",
    "    return (-0.1391 + 0.7548 * M_WD.to(u.Msun).value - 1.0124 * (M_WD.to(u.Msun).value)**2 + 0.4739 * (M_WD.to(u.Msun).value)**3)"
   ]
  },
  {
   "cell_type": "markdown",
   "id": "6af7e907",
   "metadata": {},
   "source": [
    "## Critical Ignition Mass"
   ]
  },
  {
   "cell_type": "markdown",
   "id": "dee6ce2a",
   "metadata": {},
   "source": [
    "Critical ignition mass is the mass necesarry for the SyNe \\[Nauenberg (1972)\\]."
   ]
  },
  {
   "cell_type": "code",
   "execution_count": 19,
   "id": "3712ded4",
   "metadata": {},
   "outputs": [],
   "source": [
    "# in solar masses\n",
    "def ign_mass(M_WD, R_WD):\n",
    "    \n",
    "    return 2 * 10**(-6) * (M_WD.to(u.Msun).value / R_WD.to(u.Rsun).value**4)**(-0.8) * u.Msun"
   ]
  },
  {
   "cell_type": "markdown",
   "id": "e4fbcaf9",
   "metadata": {},
   "source": [
    "## Lifetime SyS phase"
   ]
  },
  {
   "cell_type": "markdown",
   "id": "f4cd79db",
   "metadata": {},
   "source": [
    "After a nova the SyS stays on the plateau for a while (t_on) after which, the luminosity will degrade until it lies under 10Lsun (t_cool). "
   ]
  },
  {
   "cell_type": "code",
   "execution_count": 20,
   "id": "dfc4e53f",
   "metadata": {},
   "outputs": [],
   "source": [
    "# in year\n",
    "def t_on_fun(Mdot_acc, M_WD, R_WD):\n",
    "    \n",
    "    L_WD = L_H(M_WD)\n",
    "    \n",
    "    return (6.9 * 10**10 * (alpha_H(Mdot_acc, M_WD) * ign_mass(M_WD, R_WD).to(u.Msun).value / L_WD.to(u.Lsun).value) * u.yr).to(u.Myr)\n",
    "\n",
    "def t_cool_fun(M_WD):\n",
    "    \n",
    "    L_WD = L_H(M_WD)\n",
    "    \n",
    "    return ((10 / L_WD.to(u.Lsun).value)**(-1/1.14) * u.yr).to(u.Myr)"
   ]
  },
  {
   "cell_type": "markdown",
   "id": "c61fc669",
   "metadata": {},
   "source": [
    "## Luminosity"
   ]
  },
  {
   "cell_type": "markdown",
   "id": "ecaa376d",
   "metadata": {},
   "source": [
    "L_Sy is the total intensity from burning (L_H) \\[Iben & Tutukov (1996)\\] and accreting (L_grav)."
   ]
  },
  {
   "cell_type": "code",
   "execution_count": 21,
   "id": "5b375f89",
   "metadata": {},
   "outputs": [],
   "source": [
    "def L_Sy(M_WD, R_WD, Mdotaccum):\n",
    "    \n",
    "    return L_H(M_WD) + L_grav(M_WD, R_WD, Mdotaccum)\n",
    "\n",
    "# I am assuming that the M_core comes from the M_WD without the accreted mass but this should be checked\n",
    "\n",
    "def L_H(M_WD):\n",
    "    \n",
    "    return 4.6 * 10**4 * (M_WD.to(u.Msun).value - 0.26) * u.Lsun\n",
    "\n",
    "# Until I know how Lu got alpha = 0.1 I will take alpha = 0.15 from Yaron\n",
    "\n",
    "def L_grav(M_WD, R_WD, Mdotaccum):\n",
    "        \n",
    "    return (0.15 * c.G * M_WD * Mdotaccum / R_WD).to(u.Lsun)"
   ]
  },
  {
   "cell_type": "markdown",
   "id": "d429ebf4",
   "metadata": {},
   "source": [
    "# Useful functions "
   ]
  },
  {
   "cell_type": "markdown",
   "id": "3ab00f09",
   "metadata": {},
   "source": [
    "Self explanatory"
   ]
  },
  {
   "cell_type": "code",
   "execution_count": 22,
   "id": "e11d3089",
   "metadata": {},
   "outputs": [],
   "source": [
    "def isSymb(Data):\n",
    "    \n",
    "    return isDetached(Data) & hasHotComp(Data) & hasGiant(Data)"
   ]
  },
  {
   "cell_type": "code",
   "execution_count": 23,
   "id": "47be511d",
   "metadata": {},
   "outputs": [],
   "source": [
    "def isDetached(Data):\n",
    "    \n",
    "    SWs = Data['BSE_Switch_Log']  # Access the switch log data\n",
    "    \n",
    "    # Return true if the mass transfer rate of the donor star is zero\n",
    "    return SWs['MassTransferRateDonor'][()] == 0"
   ]
  },
  {
   "cell_type": "markdown",
   "id": "7cc53487",
   "metadata": {},
   "source": [
    "***"
   ]
  },
  {
   "cell_type": "markdown",
   "id": "6f891abb",
   "metadata": {},
   "source": [
    "The next two function are the same but for WD+G and G+WD systems respectively. They look at the luminosity of the WD by calculating whether it has H-burning due to wind accretion. One of the problems is that systems that change giant type and were still burning stop doing so, I don't know whether (read: I doubt that) these systems are significantly abundant (after being weighted by time). "
   ]
  },
  {
   "cell_type": "code",
   "execution_count": 24,
   "id": "caac40e9",
   "metadata": {},
   "outputs": [],
   "source": [
    "def hasHotComp_mask_G_WD_t(Data, mask_WD_G):\n",
    "\n",
    "    SWs = Data['BSE_Switch_Log']  # Access the switch log data\n",
    "        \n",
    "    # Very sketchy but I make the last one False because I have no way to calculate its lifetime\n",
    "    mask_WD_G[-1] = False\n",
    "    \n",
    "    mask_plus_one = [False] * len(mask_WD_G)\n",
    "    for i in range(len(mask_WD_G)):\n",
    "        if mask_WD_G[i]:\n",
    "            \n",
    "            mask_plus_one[i + 1] = True\n",
    "    \n",
    "    t_GiantStage  = np.array(SWs['Time'][()][mask_plus_one] - SWs['Time'][()][mask_WD_G]) * u.Myr\n",
    "        \n",
    "    # A better way to do the next thing is (probably) to control that the Seed of the next switch-state is the same\n",
    "    t_GiantStage[t_GiantStage < 0] = 0\n",
    "    \n",
    "    # Stellar properties\n",
    "    Type_G          = SWs['Stellar_Type(1)'][()][mask_WD_G]\n",
    "    Type_WD         = SWs['Stellar_Type(2)'][()][mask_WD_G]\n",
    "    Mass_G          = SWs['Mass(1)'][()][mask_WD_G]         * u.Msun\n",
    "    Mass_WD         = SWs['Mass(2)'][()][mask_WD_G]         * u.Msun\n",
    "    Radius_G        = SWs['Radius(1)'][()][mask_WD_G]       * u.Rsun\n",
    "    Radius_WD       = SWs['Radius(2)'][()][mask_WD_G]       * u.Rsun\n",
    "    Luminosity_G    = SWs['Luminosity(1)'][()][mask_WD_G]   * u.Lsun\n",
    "    Luminosity_WD   = SWs['Luminosity(2)'][()][mask_WD_G]   * u.Lsun\n",
    "        \n",
    "    # Binary properties\n",
    "    a      = SWs['SemiMajorAxis'][()][mask_WD_G] * u.Rsun\n",
    "    \n",
    "    # v_orb is not implemented in COMPAS (anymore)\n",
    "    # If this is used more than just here, consider making it a function\n",
    "    v_orb = np.sqrt( c.G * (Mass_G + Mass_WD) / a ).to(u.km / u.s)\n",
    "\n",
    "        \n",
    "    #____________________________________________________________________\n",
    "        \n",
    "    # Maximum masstransfer during the stage\n",
    "        \n",
    "    t_Gs = np.linspace(0, t_GiantStage, 100)\n",
    "    dt   = t_GiantStage/(101)\n",
    "                        \n",
    "    t_visible = np.zeros(len(Mass_WD)) * u.Myr\n",
    "        \n",
    "    Delta_M = np.zeros(len(Mass_WD)) * u.Msun # H built up on the surface of the WD\n",
    "    \n",
    "    t_on = np.zeros(len(Mass_WD)) * u.Myr\n",
    "    t_cool = np.zeros(len(Mass_WD)) * u.Myr\n",
    "\n",
    "    L_on = np.zeros(len(Mass_WD)) * u.Lsun\n",
    "    \n",
    "    M_crit = ign_mass(Mass_WD, Radius_WD)\n",
    "            \n",
    "    Mdot = interpWindLossALL_t(Type_G, Mass_G, t_Gs)\n",
    "    \n",
    "    #____________________________________________________________________\n",
    "                \n",
    "    for t_ind in range(len(t_Gs)):\n",
    "                \n",
    "        t = t_Gs[t_ind]\n",
    "                \n",
    "            \n",
    "        # be careful about what should be done with Mdot_accum and what should be done with Mdot_acc\n",
    "        Mdotacc = Mdot_acc(Mass_WD, a, v_orb, Mdot[:,t_ind], Radius_G, Mass_G)\n",
    "                \n",
    "        Delta_M += Mdot_accum(Mdotacc, Mass_WD) * dt\n",
    "        \n",
    "        # could we combine the masks such that I only check the stable datas for values that can be stable?\n",
    "        # would this even be quicker considering I calculate the Mdotacc either way?\n",
    "        \n",
    "        stableSyS = isStable(Mass_WD, Mdotacc)\n",
    "\n",
    "        startSyNe    = (Delta_M > M_crit)\n",
    "        \n",
    "        startBurning = (stableSyS | startSyNe)\n",
    "        stillBurning = (t < t_cool) | (t < t_on)\n",
    "        \n",
    "        isBurning    = startBurning | stillBurning\n",
    "        \n",
    "        L_on[startBurning] = L_Sy(Mass_WD[startBurning], Radius_WD[startBurning], Mdotaccum[startBurning]) + Luminosity_WD[startBurning]\n",
    "        \n",
    "        t_on[startBurning]   = t[startBurning] + t_on_fun(Mdotacc[startBurning], Mass_WD[startBurning], Radius_WD[startBurning]) # t in Myr\n",
    "        t_cool[startBurning] = t_on[startBurning] + t_cool_fun(Mass_WD[startBurning]) # t in Myr\n",
    "        \n",
    "        # L_on[t > t_cool] = Luminosity_WD[t > t_cool]\n",
    "        L_on[t > t_cool] = 0 # this ignores systems that have no SyStable or SyNe \n",
    "\n",
    "        visible = (L_on > 10 * u.Lsun)\n",
    "        \n",
    "        Delta_M[isBurning] = 0\n",
    "  \n",
    "        t_visible[isBurning & visible] += np.min([dt[isBurning & visible],t_cool[isBurning & visible] - t[isBurning & visible]],0) * u.Myr\n",
    "                \n",
    "    return t_visible   "
   ]
  },
  {
   "cell_type": "code",
   "execution_count": 36,
   "id": "fd8809ef",
   "metadata": {},
   "outputs": [],
   "source": [
    "def hasHotComp_mask_WD_G_t(Data, mask_WD_G):\n",
    "\n",
    "    SWs = Data['BSE_Switch_Log']  # Access the switch log data\n",
    "        \n",
    "    # Very sketchy but I make the last one False because I have no way to calculate its lifetime\n",
    "    mask_WD_G[-1] = False\n",
    "    \n",
    "    mask_plus_one = [False] * len(mask_WD_G)\n",
    "    for i in range(len(mask_WD_G)):\n",
    "        if mask_WD_G[i]:\n",
    "            \n",
    "            mask_plus_one[i + 1] = True\n",
    "    \n",
    "    t_GiantStage  = np.array(SWs['Time'][()][mask_plus_one] - SWs['Time'][()][mask_WD_G]) * u.Myr\n",
    "        \n",
    "    # A better way to do the next thing is (probably) to control that the Seed of the next switch-state is the same\n",
    "    t_GiantStage[t_GiantStage < 0] = 0\n",
    "    \n",
    "    # Stellar properties\n",
    "    Type_WD        = SWs['Stellar_Type(1)'][()][mask_WD_G]\n",
    "    Type_G         = SWs['Stellar_Type(2)'][()][mask_WD_G]\n",
    "    Mass_WD        = SWs['Mass(1)'][()][mask_WD_G]         * u.Msun\n",
    "    Mass_G         = SWs['Mass(2)'][()][mask_WD_G]         * u.Msun\n",
    "    Radius_WD      = SWs['Radius(1)'][()][mask_WD_G]       * u.Rsun\n",
    "    Radius_G       = SWs['Radius(2)'][()][mask_WD_G]       * u.Rsun\n",
    "    Luminosity_WD  = SWs['Luminosity(1)'][()][mask_WD_G]   * u.Lsun\n",
    "    Luminosity_G   = SWs['Luminosity(2)'][()][mask_WD_G]   * u.Lsun\n",
    "        \n",
    "    # Binary properties\n",
    "    a      = SWs['SemiMajorAxis'][()][mask_WD_G] * u.Rsun\n",
    "    \n",
    "    # v_orb is not implemented in COMPAS (anymore)\n",
    "    # If this is used more than just here, consider making it a function\n",
    "    v_orb = np.sqrt( c.G * (Mass_G + Mass_WD) / a ).to(u.km / u.s)\n",
    "\n",
    "        \n",
    "    #____________________________________________________________________\n",
    "        \n",
    "    # Maximum masstransfer during the stage\n",
    "        \n",
    "    t_Gs = np.linspace(0, t_GiantStage, 100)\n",
    "    dt   = t_GiantStage/(101)\n",
    "                        \n",
    "    t_visible = np.zeros(len(Mass_WD)) * u.Myr\n",
    "        \n",
    "    Delta_M = np.zeros(len(Mass_WD)) * u.Msun # H built up on the surface of the WD\n",
    "    \n",
    "    t_on = np.zeros(len(Mass_WD)) * u.Myr\n",
    "    t_cool = np.zeros(len(Mass_WD)) * u.Myr\n",
    "\n",
    "    L_on = np.zeros(len(Mass_WD)) * u.Lsun\n",
    "    \n",
    "    M_crit = ign_mass(Mass_WD, Radius_WD)\n",
    "        \n",
    "    Mdot = interpWindLossALL_t(Type_G, Mass_G, t_Gs)\n",
    "        \n",
    "    #____________________________________________________________________        \n",
    "\n",
    "    for t_ind in range(len(t_Gs)):\n",
    "                \n",
    "        t = t_Gs[t_ind]\n",
    "                \n",
    "        # be careful about what should be done with Mdot_accum and what should be done with Mdot_acc\n",
    "        Mdotacc = Mdot_acc(Mass_WD, a, v_orb, Mdot[:,t_ind], Radius_G, Mass_G)\n",
    "        \n",
    "        Mdotaccum = Mdot_accum(Mdotacc, Mass_WD)\n",
    "\n",
    "        Delta_M += Mdotaccum * dt\n",
    "                \n",
    "        # could we combine the masks such that I only check the stable datas for values that can be stable?\n",
    "        # would this even be quicker considering I calculate the Mdotacc either way?\n",
    "        \n",
    "        stableSyS = isStable(Mass_WD, Mdotacc)\n",
    "        \n",
    "        startSyNe    = (Delta_M > M_crit)\n",
    "        \n",
    "        startBurning = (stableSyS | startSyNe)\n",
    "        stillBurning = (t < t_cool)\n",
    "        \n",
    "        isBurning    = startBurning | stillBurning\n",
    "        isSyNe       = startSyNe & stillBurning\n",
    "        \n",
    "        L_on[startBurning] = L_Sy(Mass_WD[startBurning], Radius_WD[startBurning], Mdotaccum[startBurning]) + Luminosity_WD[startBurning]\n",
    "        \n",
    "        t_on[startBurning]   = t[startBurning] + t_on_fun(Mdotacc[startBurning], Mass_WD[startBurning], Radius_WD[startBurning]) # t in Myr\n",
    "        t_cool[startBurning] = t_on[startBurning] + t_cool_fun(Mass_WD[startBurning]) # t in Myr\n",
    "        \n",
    "        # L_on[t > t_cool] = Luminosity_WD[t > t_cool]\n",
    "        L_on[t > t_cool] = 0 # this ignores systems that have no SyStable or SyNe \n",
    "\n",
    "        visible = (L_on > 10 * u.Lsun)\n",
    "        \n",
    "        Delta_M[isBurning] = 0\n",
    "\n",
    "        t_visible[stableSyS & visible] += dt[stableSyS & visible]\n",
    "        \n",
    "        t_visible[isSyNe & visible] += np.min([dt[isSyNe & visible],t_cool[isSyNe & visible] - t[isSyNe & visible]],0) * u.Myr\n",
    "            \n",
    "    return t_visible   "
   ]
  },
  {
   "cell_type": "markdown",
   "id": "0212abd2",
   "metadata": {},
   "source": [
    "***"
   ]
  },
  {
   "cell_type": "markdown",
   "id": "f7433fd3",
   "metadata": {},
   "source": [
    "Self explanatory"
   ]
  },
  {
   "cell_type": "code",
   "execution_count": 27,
   "id": "b599c093",
   "metadata": {},
   "outputs": [],
   "source": [
    "def hasGiant(Type_G):\n",
    "\n",
    "    TypeGiant = (Type_G == 3) | (Type_G == 4) | (Type_G == 5) | (Type_G == 6)\n",
    "\n",
    "    # Return true if either star is a giant\n",
    "    return (TypeGiant)"
   ]
  },
  {
   "cell_type": "code",
   "execution_count": 28,
   "id": "cc3aae15",
   "metadata": {},
   "outputs": [],
   "source": [
    "def hasWD(Type_WD):\n",
    "\n",
    "    TypeWD = (Type_WD >= 10) & (Type_WD <= 12)\n",
    "\n",
    "    # Return true if either star is a giant\n",
    "    return TypeWD"
   ]
  },
  {
   "cell_type": "markdown",
   "id": "0f88ec36",
   "metadata": {},
   "source": [
    "# Period"
   ]
  },
  {
   "cell_type": "markdown",
   "id": "cad139ee",
   "metadata": {},
   "source": [
    "Calculates the period and weight of each system."
   ]
  },
  {
   "cell_type": "code",
   "execution_count": 29,
   "id": "cc4eed01",
   "metadata": {},
   "outputs": [],
   "source": [
    "def timeWeight(Data):\n",
    "\n",
    "    SWs = Data['BSE_Switch_Log']  # Access the switch log data\n",
    "    \n",
    "    # Extract relevant parameters from the switch log\n",
    "    SemiMajor = SWs['SemiMajorAxis'][()] * u.Rsun  # Semi-major axis in solar radii\n",
    "    Mass1 = SWs['Mass(1)'][()] * u.M_sun  # Mass of the first star in solar masses\n",
    "    Mass2 = SWs['Mass(2)'][()] * u.M_sun  # Mass of the second star in solar masses\n",
    "    Type1 = SWs['Stellar_Type(1)'][()]\n",
    "    Type2 = SWs['Stellar_Type(2)'][()]    \n",
    "    \n",
    "    \n",
    "    is_G_WD = isDetached(Data) & hasGiant(Type1) & hasWD(Type2)\n",
    "        \n",
    "    is_WD_G = isDetached(Data) & hasGiant(Type2) & hasWD(Type1)\n",
    "    \n",
    "    #############\n",
    "    \n",
    "    times = hasHotComp_mask_WD_G_t(Data, is_WD_G)\n",
    "        \n",
    "    periods = np.sqrt(4 * np.pi**2 * (SemiMajor[is_WD_G])**3 / (c.G * (Mass1[is_WD_G] + Mass2[is_WD_G])))\n",
    "\n",
    "    \n",
    "    #############\n",
    "    \n",
    "    # This part is often not necessary\n",
    "    if (list(is_G_WD).count(True) > 0): \n",
    "            \n",
    "        times_G_WD = hasHotComp_mask_G_WD_t(Data, is_G_WD)\n",
    "\n",
    "        periods1 = np.sqrt(4 * np.pi**2 * (SemiMajor[is_G_WD])**3 / (c.G * (Mass1[is_G_WD] + Mass2[is_G_WD])))\n",
    "\n",
    "\n",
    "        times = np.concatenate([times, times_G_WD])\n",
    "        periods = np.concatenate([periods, periods1])\n",
    "    \n",
    "    return times, periods.to(u.day)  # Convert periods to days"
   ]
  },
  {
   "cell_type": "markdown",
   "id": "f7b1a72d",
   "metadata": {},
   "source": [
    "# Results"
   ]
  },
  {
   "cell_type": "markdown",
   "id": "5e2f13c7",
   "metadata": {},
   "source": [
    "Calculating the periods and weights for all data."
   ]
  },
  {
   "cell_type": "raw",
   "id": "68888e6f",
   "metadata": {},
   "source": [
    "start = time.time()\n",
    "\n",
    "log_periods_obs = np.log10(periods_obs)\n",
    "\n",
    "weight_2stage, periods_data2Stage = timeWeight(data2Stage)\n",
    "\n",
    "log_periods_data2Stage = np.log10(periods_data2Stage.value)\n",
    "\n",
    "clear_output(wait=True)\n",
    "\n",
    "end = time.time()\n",
    "print(\"It has been running for\", np.round(end - start), \"seconds.\")\n",
    "print(\"Twostage done\")\n",
    "\n",
    "log_periods_dataClassics = []\n",
    "weight_Classics = []\n",
    "\n",
    "for dataClassic in dataEnergys:\n",
    "\n",
    "    weight_Classic, periods_dataClassic = timeWeight(dataClassic)\n",
    "    \n",
    "    weight_Classics.append(weight_Classic)\n",
    "\n",
    "    log_periods_dataClassic = np.log10(periods_dataClassic.value)\n",
    "\n",
    "    log_periods_dataClassics.append(log_periods_dataClassic)\n",
    "    \n",
    "    print(\"Classic subphase done\")\n",
    "    \n",
    "clear_output(wait=True)\n",
    "\n",
    "end = time.time()\n",
    "print(\"It has been running for\", np.round(end - start), \"seconds.\")\n",
    "print(\"Twostage done\")\n",
    "print(\"Classic done\")\n",
    "\n",
    "log_periods_dataStables = []\n",
    "weight_Stables = []\n",
    "\n",
    "for dataStable in dataStables:\n",
    "    \n",
    "    weight_Stable, periods_dataStable = timeWeight(dataStable)\n",
    "    \n",
    "    weight_Stables.append(weight_Stable)\n",
    "\n",
    "    log_periods_dataStable = np.log10(periods_dataStable.value)\n",
    "\n",
    "    log_periods_dataStables.append(log_periods_dataStable)\n",
    "    \n",
    "    print(\"Stable subphase done\")\n",
    "    \n",
    "clear_output(wait=True)\n",
    "\n",
    "end = time.time()\n",
    "print(\"It has been running for\", np.round(end - start), \"seconds.\")\n",
    "print(\"Twostage done\")\n",
    "print(\"Classic done\")\n",
    "print(\"Stable done\")\n",
    "\n",
    "   \n",
    "log_periods_dataUnstables = []\n",
    "weight_Unstables = []\n",
    "\n",
    "for dataUnstable in dataUnstables:\n",
    "    \n",
    "    weight_Unstable, periods_dataUnstable = timeWeight(dataUnstable)\n",
    "    \n",
    "    weight_Unstables.append(weight_Unstable)\n",
    "\n",
    "    log_periods_dataUnstable = np.log10(periods_dataUnstable.value)\n",
    "\n",
    "    log_periods_dataUnstables.append(log_periods_dataUnstable)\n",
    "\n",
    "    print(\"Unstable subphase done\")\n",
    "    \n",
    "clear_output(wait=True)\n",
    "\n",
    "end = time.time()\n",
    "print(\"It took\", np.round(end - start), \"seconds.\")\n",
    "  \n",
    "print(\"Twostage done\")\n",
    "print(\"Classic done\")\n",
    "print(\"Stable done\")\n",
    "print(\"Unstable done\")"
   ]
  },
  {
   "cell_type": "markdown",
   "id": "d23d7737",
   "metadata": {},
   "source": [
    "Calculating it for everything is quite slow so while working on the code I usually only run it for 2stage because it has no free parameters."
   ]
  },
  {
   "cell_type": "code",
   "execution_count": 30,
   "id": "629180e0",
   "metadata": {},
   "outputs": [
    {
     "name": "stdout",
     "output_type": "stream",
     "text": [
      "It took 935.0 seconds.\n"
     ]
    }
   ],
   "source": [
    "start = time.time()\n",
    "\n",
    "weight_2stage, periods_data2Stage = timeWeight(data2Stage)\n",
    "log_periods_data2Stage = np.log10(periods_data2Stage.value)\n",
    "log_periods_obs = np.log10(periods_obs)\n",
    "\n",
    "end = time.time()\n",
    "print(\"It took\", np.round(end - start), \"seconds.\")"
   ]
  },
  {
   "cell_type": "code",
   "execution_count": 31,
   "id": "0cedce24",
   "metadata": {},
   "outputs": [],
   "source": [
    "# Function to plot Kernel Density Estimate (KDE)\n",
    "def plot_kde(data, weight, color, linestyle, linewidth=2):\n",
    "\n",
    "    kde = gaussian_kde(data, weights = weight)  # Generate the KDE for the data\n",
    "    x_vals = np.linspace(-15, 15, 500)  # Define the range for x-axis\n",
    "    plt.plot(x_vals, kde(x_vals), color=color, linestyle=linestyle, linewidth=linewidth)  # Plot KDE"
   ]
  },
  {
   "cell_type": "markdown",
   "id": "ef263d82",
   "metadata": {},
   "source": [
    "Plot for only the 2stage, not weighted"
   ]
  },
  {
   "cell_type": "code",
   "execution_count": 32,
   "id": "eaee1990",
   "metadata": {},
   "outputs": [
    {
     "data": {
      "text/plain": [
       "Text(0, 0.5, 'Density')"
      ]
     },
     "execution_count": 32,
     "metadata": {},
     "output_type": "execute_result"
    },
    {
     "data": {
      "image/png": "[encoded data removed]",
      "text/plain": [
       "<Figure size 1000x600 with 1 Axes>"
      ]
     },
     "metadata": {},
     "output_type": "display_data"
    }
   ],
   "source": [
    "# Start figure\n",
    "plt.figure(figsize=(10, 6))\n",
    "\n",
    "# Log-transform observed periods and plot the KDE\n",
    "plot_kde(log_periods_obs, None , color='k', linestyle='--', linewidth=2.5)\n",
    "\n",
    "# Log-transform two-stage data and plot the KDE\n",
    "plot_kde(log_periods_data2Stage, None, color='b', linestyle='-', linewidth=2)\n",
    "\n",
    "        \n",
    "# Dummy points with matching linestyle\n",
    "plt.plot(0, 0, c='k', ls='--', label='Observed', linewidth=2.5) \n",
    "plt.plot(0, 0, c='b', ls='-', label='Two-stage', linewidth=2) \n",
    "\n",
    "plt.legend(loc='upper right', fontsize=12)  # Place legend in upper right corner\n",
    "\n",
    "plt.xlim(0, 8)  # Set the limits for x-axis\n",
    "plt.ylim(0, 1.6)\n",
    "\n",
    "plt.title('SySs + SyNe not weighted', size = 18)\n",
    "\n",
    "# Add gridlines for better readability\n",
    "plt.grid(True, linestyle='--', alpha=0.6)  # Add light dashed gridlines\n",
    "\n",
    "\n",
    "plt.xlabel('log10(P) [days]', size = 15)\n",
    "plt.ylabel('Density', size = 15)"
   ]
  },
  {
   "cell_type": "markdown",
   "id": "4b57a1e4",
   "metadata": {},
   "source": [
    "Plot for all models, not weighted"
   ]
  },
  {
   "cell_type": "raw",
   "id": "1f4be97f",
   "metadata": {},
   "source": [
    "# Start figure\n",
    "plt.figure(figsize=(10, 6))\n",
    "\n",
    "# Log-transform observed periods and plot the KDE\n",
    "plot_kde(log_periods_obs, None , color='k', linestyle='--', linewidth=2.5)\n",
    "\n",
    "# Log-transform two-stage data and plot the KDE\n",
    "plot_kde(log_periods_data2Stage, None, color='b', linestyle='-', linewidth=2)\n",
    "\n",
    "# Loop through dataStables, log-transform and plot histogram\n",
    "for ind in range(len(log_periods_dataStables)):\n",
    "    if len(weight_Stables[ind][weight_Stables[ind] > 0]) and list(np.isfinite(weight_Stables[ind])).count(True) > 0:\n",
    "        plot_kde(log_periods_dataStables[ind][np.isfinite(log_periods_dataStables[ind])], None, color='y', linestyle=':', linewidth=2)  # Plot KDE for stable data\n",
    "\n",
    "# Loop through dataUnstables, log-transform and plot histogram\n",
    "for ind in range(len(log_periods_dataUnstables)):\n",
    "    if len(log_periods_dataUnstables[ind]) > 1: \n",
    "        plot_kde(log_periods_dataUnstables[ind], None, color='m', linestyle=':', linewidth=2)  # Plot KDE for stable data\n",
    "        \n",
    "# Plot KDE for each dataset in 'dataEnergys' after log-transforming periods\n",
    "for ind in range(len(log_periods_dataClassics)):\n",
    "    if len(log_periods_dataClassics[ind]) > 1: \n",
    "        plot_kde(log_periods_dataClassics[ind], None, color='r', linestyle='-.', linewidth=2)  # Plot KDE for classical data\n",
    "\n",
    "        \n",
    "# Dummy points with matching linestyle\n",
    "plt.plot(0, 0, c='k', ls='--', label='Observed', linewidth=2.5)  \n",
    "plt.plot(0, 0, c='r', ls='-.', label='Classical', linewidth=2)  \n",
    "plt.plot(0, 0, c='y', ls=':', label='Stable', linewidth=2)  \n",
    "plt.plot(0, 0, c='m', ls=':', label='Unstable', linewidth=2)  \n",
    "plt.plot(0, 0, c='b', ls='-', label='Two-stage', linewidth=2) \n",
    "\n",
    "plt.legend(loc='upper right', fontsize=12)  # Place legend in upper right corner\n",
    "\n",
    "plt.xlim(0, 10)  # Set the limits for x-axis\n",
    "plt.ylim(0, 1.6)\n",
    "\n",
    "plt.title('SySs not weighted', size = 18)\n",
    "\n",
    "# Add gridlines for better readability\n",
    "plt.grid(True, linestyle='--', alpha=0.6)  # Add light dashed gridlines\n",
    "\n",
    "\n",
    "plt.xlabel('log10(P) [days]', size = 15)\n",
    "plt.ylabel('Density', size = 15)"
   ]
  },
  {
   "cell_type": "markdown",
   "id": "a3132991",
   "metadata": {},
   "source": [
    "Plot for only the 2stage, weighted"
   ]
  },
  {
   "cell_type": "code",
   "execution_count": 35,
   "id": "5d61401b",
   "metadata": {},
   "outputs": [
    {
     "data": {
      "text/plain": [
       "Text(0, 0.5, 'Density')"
      ]
     },
     "execution_count": 35,
     "metadata": {},
     "output_type": "execute_result"
    },
    {
     "data": {
      "image/png": "[encoded data removed]",
      "text/plain": [
       "<Figure size 1000x600 with 1 Axes>"
      ]
     },
     "metadata": {},
     "output_type": "display_data"
    }
   ],
   "source": [
    "# Start figure\n",
    "plt.figure(figsize=(10, 6))\n",
    "\n",
    "# Log-transform observed periods and plot the KDE\n",
    "plot_kde(log_periods_obs, None , color='k', linestyle='--', linewidth=2.5)\n",
    "\n",
    "# Log-transform two-stage data and plot the KDE\n",
    "plot_kde(log_periods_data2Stage, weight_2stage, color='b', linestyle='-', linewidth=2)\n",
    "\n",
    "        \n",
    "# Dummy points with matching linestyle\n",
    "plt.plot(0, 0, c='k', ls='--', label='Observed', linewidth=2.5) \n",
    "plt.plot(0, 0, c='b', ls='-', label='Two-stage', linewidth=2) \n",
    "\n",
    "plt.legend(loc='upper right', fontsize=12)  # Place legend in upper right corner\n",
    "\n",
    "plt.xlim(-2, 8)  # Set the limits for x-axis\n",
    "plt.ylim(0, 1.6)\n",
    "\n",
    "plt.title('SySs + SyNe weighted', size = 18)\n",
    "\n",
    "# Add gridlines for better readability\n",
    "plt.grid(True, linestyle='--', alpha=0.6)  # Add light dashed gridlines\n",
    "\n",
    "\n",
    "plt.xlabel('log10(P) [days]', size = 15)\n",
    "plt.ylabel('Density', size = 15)"
   ]
  },
  {
   "cell_type": "markdown",
   "id": "e9db4668",
   "metadata": {},
   "source": [
    "Plot for all models, weighted"
   ]
  },
  {
   "cell_type": "raw",
   "id": "3ba20dc2",
   "metadata": {},
   "source": [
    "# Start figure\n",
    "plt.figure(figsize=(10, 6))\n",
    "\n",
    "# Log-transform observed periods and plot the KDE\n",
    "plot_kde(log_periods_obs, None , color='k', linestyle='--', linewidth=2.5)\n",
    "\n",
    "# Log-transform two-stage data and plot the KDE\n",
    "plot_kde(log_periods_data2Stage, weight_2stage, color='b', linestyle='-', linewidth=2)\n",
    "\n",
    "# Loop through dataStables, log-transform and plot histogram\n",
    "for ind in range(len(log_periods_dataStables)):\n",
    "    if len(weight_Stables[ind][weight_Stables[ind] > 0]):\n",
    "        plot_kde(log_periods_dataStables[ind][np.isfinite(weight_Stables[ind])], weight_Stables[ind][np.isfinite(weight_Stables[ind])], color='y', linestyle=':', linewidth=2)  # Plot KDE for stable data\n",
    "\n",
    "# Loop through dataUnstables, log-transform and plot histogram\n",
    "for ind in range(len(log_periods_dataUnstables)):\n",
    "    if len(log_periods_dataUnstables[ind]) > 1: \n",
    "        plot_kde(log_periods_dataUnstables[ind], weight_Unstables[ind], color='m', linestyle=':', linewidth=2)  # Plot KDE for stable data\n",
    "        \n",
    "# Plot KDE for each dataset in 'dataEnergys' after log-transforming periods\n",
    "for ind in range(len(log_periods_dataClassics)):\n",
    "    if len(log_periods_dataClassics[ind]) > 1: \n",
    "        plot_kde(log_periods_dataClassics[ind], weight_Classics[ind], color='r', linestyle='-.', linewidth=2)  # Plot KDE for classical data\n",
    "\n",
    "        \n",
    "# Dummy points with matching linestyle\n",
    "plt.plot(0, 0, c='k', ls='--', label='Observed', linewidth=2.5)  \n",
    "plt.plot(0, 0, c='r', ls='-.', label='Classical', linewidth=2)  \n",
    "plt.plot(0, 0, c='y', ls=':', label='Stable', linewidth=2)  \n",
    "plt.plot(0, 0, c='m', ls=':', label='Unstable', linewidth=2)  \n",
    "plt.plot(0, 0, c='b', ls='-', label='Two-stage', linewidth=2) \n",
    "\n",
    "plt.legend(loc='upper right', fontsize=12)  # Place legend in upper right corner\n",
    "\n",
    "plt.xlim(-6, 6)  # Set the limits for x-axis\n",
    "plt.ylim(0, 1.6)\n",
    "\n",
    "plt.title('SySs + SyNe weighted', size = 18)\n",
    "\n",
    "# Add gridlines for better readability\n",
    "plt.grid(True, linestyle='--', alpha=0.6)  # Add light dashed gridlines\n",
    "\n",
    "\n",
    "plt.xlabel('log10(P) [days]', size = 15)\n",
    "plt.ylabel('Density', size = 15)"
   ]
  }
 ],
 "metadata": {
  "kernelspec": {
   "display_name": "Python 3 (ipykernel)",
   "language": "python",
   "name": "python3"
  },
  "language_info": {
   "codemirror_mode": {
    "name": "ipython",
    "version": 3
   },
   "file_extension": ".py",
   "mimetype": "text/x-python",
   "name": "python",
   "nbconvert_exporter": "python",
   "pygments_lexer": "ipython3",
   "version": "3.8.18"
  }
 },
 "nbformat": 4,
 "nbformat_minor": 5
}
